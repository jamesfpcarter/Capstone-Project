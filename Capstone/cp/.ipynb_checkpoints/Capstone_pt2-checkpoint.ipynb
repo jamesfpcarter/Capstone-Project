{
 "cells": [
  {
   "cell_type": "markdown",
   "metadata": {},
   "source": [
    "# Capstone part 2"
   ]
  },
  {
   "cell_type": "code",
   "execution_count": 1,
   "metadata": {},
   "outputs": [],
   "source": [
    "import pandas as pd\n",
    "import numpy as np"
   ]
  },
  {
   "cell_type": "code",
   "execution_count": 2,
   "metadata": {},
   "outputs": [
    {
     "name": "stdout",
     "output_type": "stream",
     "text": [
      "Archive:  global_crops.csv.zip\n",
      "  inflating: global_crops.csv        \n",
      "   creating: __MACOSX/\n",
      "  inflating: __MACOSX/._global_crops.csv  \n"
     ]
    }
   ],
   "source": [
    "!unzip -o global_crops.csv.zip"
   ]
  },
  {
   "cell_type": "code",
   "execution_count": 3,
   "metadata": {},
   "outputs": [],
   "source": [
    "# read in data\n",
    "# global crops data + dict\n",
    "glob = pd.read_csv('./global_crops.csv')\n",
    "glob_dict = pd.read_csv('./world_crops.csv')\n",
    "\n",
    "# Hillesdon data + dict\n",
    "\n",
    "hill = pd.read_csv('./Hillesden_crop_yield(csv).csv')\n",
    "hill_dict = pd.read_csv('./Hillesdon.csv')\n",
    "\n",
    "# Argentina data + dict\n",
    "\n",
    "arg = pd.read_csv('./argentina.csv', header=1)\n",
    "arg_dict = pd.read_csv('./Argy.csv')\n",
    "\n",
    "# europe data + dict\n",
    "\n",
    "eur = pd.read_csv('./europe.csv', sep=',', quotechar='\"', encoding='latin1')\n",
    "eur_dict = pd.read_csv('./euro.csv')"
   ]
  },
  {
   "cell_type": "markdown",
   "metadata": {},
   "source": [
    "## Global"
   ]
  },
  {
   "cell_type": "code",
   "execution_count": 4,
   "metadata": {
    "scrolled": true
   },
   "outputs": [],
   "source": [
    "glob = glob.drop('element', axis = 1)"
   ]
  },
  {
   "cell_type": "code",
   "execution_count": 5,
   "metadata": {},
   "outputs": [],
   "source": [
    "glob = glob.drop('value_footnotes', axis = 1)"
   ]
  },
  {
   "cell_type": "code",
   "execution_count": 7,
   "metadata": {},
   "outputs": [
    {
     "data": {
      "text/html": [
       "<div>\n",
       "<style scoped>\n",
       "    .dataframe tbody tr th:only-of-type {\n",
       "        vertical-align: middle;\n",
       "    }\n",
       "\n",
       "    .dataframe tbody tr th {\n",
       "        vertical-align: top;\n",
       "    }\n",
       "\n",
       "    .dataframe thead th {\n",
       "        text-align: right;\n",
       "    }\n",
       "</style>\n",
       "<table border=\"1\" class=\"dataframe\">\n",
       "  <thead>\n",
       "    <tr style=\"text-align: right;\">\n",
       "      <th></th>\n",
       "      <th>country_or_area</th>\n",
       "      <th>element_code</th>\n",
       "      <th>year</th>\n",
       "      <th>unit</th>\n",
       "      <th>value</th>\n",
       "      <th>category</th>\n",
       "    </tr>\n",
       "  </thead>\n",
       "  <tbody>\n",
       "    <tr>\n",
       "      <th>0</th>\n",
       "      <td>Americas +</td>\n",
       "      <td>31</td>\n",
       "      <td>2007.0</td>\n",
       "      <td>Ha</td>\n",
       "      <td>49404.0</td>\n",
       "      <td>agave_fibres_nes</td>\n",
       "    </tr>\n",
       "    <tr>\n",
       "      <th>1</th>\n",
       "      <td>Americas +</td>\n",
       "      <td>31</td>\n",
       "      <td>2006.0</td>\n",
       "      <td>Ha</td>\n",
       "      <td>49404.0</td>\n",
       "      <td>agave_fibres_nes</td>\n",
       "    </tr>\n",
       "  </tbody>\n",
       "</table>\n",
       "</div>"
      ],
      "text/plain": [
       "  country_or_area element_code    year unit    value          category\n",
       "0      Americas +           31  2007.0   Ha  49404.0  agave_fibres_nes\n",
       "1      Americas +           31  2006.0   Ha  49404.0  agave_fibres_nes"
      ]
     },
     "execution_count": 7,
     "metadata": {},
     "output_type": "execute_result"
    }
   ],
   "source": [
    "glob.head(2)"
   ]
  },
  {
   "cell_type": "code",
   "execution_count": 8,
   "metadata": {},
   "outputs": [
    {
     "name": "stdout",
     "output_type": "stream",
     "text": [
      "<class 'pandas.core.frame.DataFrame'>\n",
      "RangeIndex: 2255349 entries, 0 to 2255348\n",
      "Data columns (total 6 columns):\n",
      "country_or_area    object\n",
      "element_code       object\n",
      "year               float64\n",
      "unit               object\n",
      "value              float64\n",
      "category           object\n",
      "dtypes: float64(2), object(4)\n",
      "memory usage: 103.2+ MB\n"
     ]
    }
   ],
   "source": [
    "glob.info()"
   ]
  },
  {
   "cell_type": "code",
   "execution_count": null,
   "metadata": {},
   "outputs": [],
   "source": []
  },
  {
   "cell_type": "code",
   "execution_count": 9,
   "metadata": {
    "scrolled": true
   },
   "outputs": [
    {
     "data": {
      "text/html": [
       "<div>\n",
       "<style scoped>\n",
       "    .dataframe tbody tr th:only-of-type {\n",
       "        vertical-align: middle;\n",
       "    }\n",
       "\n",
       "    .dataframe tbody tr th {\n",
       "        vertical-align: top;\n",
       "    }\n",
       "\n",
       "    .dataframe thead th {\n",
       "        text-align: right;\n",
       "    }\n",
       "</style>\n",
       "<table border=\"1\" class=\"dataframe\">\n",
       "  <thead>\n",
       "    <tr style=\"text-align: right;\">\n",
       "      <th></th>\n",
       "      <th>Unnamed: 0</th>\n",
       "      <th>Unnamed: 1</th>\n",
       "    </tr>\n",
       "  </thead>\n",
       "  <tbody>\n",
       "    <tr>\n",
       "      <th>0</th>\n",
       "      <td>Country_or_area</td>\n",
       "      <td>Contains the names of each country that is inc...</td>\n",
       "    </tr>\n",
       "    <tr>\n",
       "      <th>1</th>\n",
       "      <td>Year</td>\n",
       "      <td>This states the year that the data was collect...</td>\n",
       "    </tr>\n",
       "    <tr>\n",
       "      <th>2</th>\n",
       "      <td>Unit</td>\n",
       "      <td>This states the unit of measurement that the c...</td>\n",
       "    </tr>\n",
       "    <tr>\n",
       "      <th>3</th>\n",
       "      <td>Value</td>\n",
       "      <td>This states the quantity of the crop harvested...</td>\n",
       "    </tr>\n",
       "    <tr>\n",
       "      <th>4</th>\n",
       "      <td>Category</td>\n",
       "      <td>This states the type of crop harvested. This r...</td>\n",
       "    </tr>\n",
       "  </tbody>\n",
       "</table>\n",
       "</div>"
      ],
      "text/plain": [
       "        Unnamed: 0                                         Unnamed: 1\n",
       "0  Country_or_area  Contains the names of each country that is inc...\n",
       "1             Year  This states the year that the data was collect...\n",
       "2             Unit  This states the unit of measurement that the c...\n",
       "3            Value  This states the quantity of the crop harvested...\n",
       "4         Category  This states the type of crop harvested. This r..."
      ]
     },
     "execution_count": 9,
     "metadata": {},
     "output_type": "execute_result"
    }
   ],
   "source": [
    "glob_dict"
   ]
  },
  {
   "cell_type": "markdown",
   "metadata": {},
   "source": [
    "## Hillesdon"
   ]
  },
  {
   "cell_type": "code",
   "execution_count": 10,
   "metadata": {},
   "outputs": [],
   "source": [
    "hill = hill.drop('Ratio', axis =1)\n",
    "hill = hill.drop('Notes', axis=1)\n",
    "hill = hill.drop('Unnamed: 11', axis = 1)"
   ]
  },
  {
   "cell_type": "code",
   "execution_count": 11,
   "metadata": {},
   "outputs": [],
   "source": [
    "hill = hill.drop('Unnamed: 12', axis=1)"
   ]
  },
  {
   "cell_type": "code",
   "execution_count": 12,
   "metadata": {},
   "outputs": [],
   "source": [
    "hill = hill.drop('Unnamed: 13', axis = 1)"
   ]
  },
  {
   "cell_type": "code",
   "execution_count": 13,
   "metadata": {},
   "outputs": [],
   "source": [
    "hill = hill.drop('Unnamed: 14', axis=1)"
   ]
  },
  {
   "cell_type": "code",
   "execution_count": 17,
   "metadata": {},
   "outputs": [],
   "source": [
    "hill = hill.drop('Block', axis=1)"
   ]
  },
  {
   "cell_type": "code",
   "execution_count": 18,
   "metadata": {},
   "outputs": [
    {
     "data": {
      "text/html": [
       "<div>\n",
       "<style scoped>\n",
       "    .dataframe tbody tr th:only-of-type {\n",
       "        vertical-align: middle;\n",
       "    }\n",
       "\n",
       "    .dataframe tbody tr th {\n",
       "        vertical-align: top;\n",
       "    }\n",
       "\n",
       "    .dataframe thead th {\n",
       "        text-align: right;\n",
       "    }\n",
       "</style>\n",
       "<table border=\"1\" class=\"dataframe\">\n",
       "  <thead>\n",
       "    <tr style=\"text-align: right;\">\n",
       "      <th></th>\n",
       "      <th>Year</th>\n",
       "      <th>Treatment</th>\n",
       "      <th>Field Name</th>\n",
       "      <th>Field Area</th>\n",
       "      <th>Crop</th>\n",
       "      <th>Quantity</th>\n",
       "      <th>Yield/ha</th>\n",
       "      <th>Defra SE regional average yield t/ha</th>\n",
       "    </tr>\n",
       "  </thead>\n",
       "  <tbody>\n",
       "    <tr>\n",
       "      <th>0</th>\n",
       "      <td>2006</td>\n",
       "      <td>Cross-compliance</td>\n",
       "      <td>Chorleys</td>\n",
       "      <td>13.57</td>\n",
       "      <td>Oilseed rape</td>\n",
       "      <td>49.39</td>\n",
       "      <td>3.64</td>\n",
       "      <td>3.2</td>\n",
       "    </tr>\n",
       "    <tr>\n",
       "      <th>1</th>\n",
       "      <td>2006</td>\n",
       "      <td>Cross-compliance</td>\n",
       "      <td>Marsh Meadow</td>\n",
       "      <td>12.18</td>\n",
       "      <td>Oilseed rape</td>\n",
       "      <td>45.55</td>\n",
       "      <td>3.74</td>\n",
       "      <td>3.2</td>\n",
       "    </tr>\n",
       "  </tbody>\n",
       "</table>\n",
       "</div>"
      ],
      "text/plain": [
       "   Year         Treatment    Field Name  Field Area          Crop  Quantity  \\\n",
       "0  2006  Cross-compliance      Chorleys       13.57  Oilseed rape     49.39   \n",
       "1  2006  Cross-compliance  Marsh Meadow       12.18  Oilseed rape     45.55   \n",
       "\n",
       "   Yield/ha  Defra SE regional average yield t/ha  \n",
       "0      3.64                                   3.2  \n",
       "1      3.74                                   3.2  "
      ]
     },
     "execution_count": 18,
     "metadata": {},
     "output_type": "execute_result"
    }
   ],
   "source": [
    "hill.head(2)"
   ]
  },
  {
   "cell_type": "code",
   "execution_count": 19,
   "metadata": {},
   "outputs": [
    {
     "name": "stdout",
     "output_type": "stream",
     "text": [
      "<class 'pandas.core.frame.DataFrame'>\n",
      "RangeIndex: 342 entries, 0 to 341\n",
      "Data columns (total 8 columns):\n",
      "Year                                    342 non-null int64\n",
      "Treatment                               342 non-null object\n",
      "Field Name                              342 non-null object\n",
      "Field Area                              342 non-null float64\n",
      "Crop                                    342 non-null object\n",
      "Quantity                                342 non-null float64\n",
      "Yield/ha                                342 non-null float64\n",
      "Defra SE regional average yield t/ha    342 non-null float64\n",
      "dtypes: float64(4), int64(1), object(3)\n",
      "memory usage: 21.5+ KB\n"
     ]
    }
   ],
   "source": [
    "hill.info()"
   ]
  },
  {
   "cell_type": "code",
   "execution_count": 16,
   "metadata": {
    "scrolled": true
   },
   "outputs": [
    {
     "data": {
      "text/html": [
       "<div>\n",
       "<style scoped>\n",
       "    .dataframe tbody tr th:only-of-type {\n",
       "        vertical-align: middle;\n",
       "    }\n",
       "\n",
       "    .dataframe tbody tr th {\n",
       "        vertical-align: top;\n",
       "    }\n",
       "\n",
       "    .dataframe thead th {\n",
       "        text-align: right;\n",
       "    }\n",
       "</style>\n",
       "<table border=\"1\" class=\"dataframe\">\n",
       "  <thead>\n",
       "    <tr style=\"text-align: right;\">\n",
       "      <th></th>\n",
       "      <th>Unnamed: 0</th>\n",
       "      <th>Unnamed: 1</th>\n",
       "    </tr>\n",
       "  </thead>\n",
       "  <tbody>\n",
       "    <tr>\n",
       "      <th>0</th>\n",
       "      <td>Year</td>\n",
       "      <td>This states the year of which the samples were...</td>\n",
       "    </tr>\n",
       "    <tr>\n",
       "      <th>1</th>\n",
       "      <td>Treatment</td>\n",
       "      <td>The treatment states the level of Organic trea...</td>\n",
       "    </tr>\n",
       "    <tr>\n",
       "      <th>2</th>\n",
       "      <td>FieldName</td>\n",
       "      <td>The name of the field in the region of the UK</td>\n",
       "    </tr>\n",
       "    <tr>\n",
       "      <th>3</th>\n",
       "      <td>FieldArea</td>\n",
       "      <td>The area in Hectares of the Field</td>\n",
       "    </tr>\n",
       "    <tr>\n",
       "      <th>4</th>\n",
       "      <td>Crop</td>\n",
       "      <td>The type of crop harvested from the field whic...</td>\n",
       "    </tr>\n",
       "    <tr>\n",
       "      <th>5</th>\n",
       "      <td>Yield</td>\n",
       "      <td>The amount of crop per hectare harvested.</td>\n",
       "    </tr>\n",
       "    <tr>\n",
       "      <th>6</th>\n",
       "      <td>tonnes</td>\n",
       "      <td>The number of tonnes of crop per hectare harve...</td>\n",
       "    </tr>\n",
       "    <tr>\n",
       "      <th>7</th>\n",
       "      <td>Ratio</td>\n",
       "      <td>The ratio of crop harvested to tonne harvested...</td>\n",
       "    </tr>\n",
       "  </tbody>\n",
       "</table>\n",
       "</div>"
      ],
      "text/plain": [
       "  Unnamed: 0                                         Unnamed: 1\n",
       "0       Year  This states the year of which the samples were...\n",
       "1  Treatment  The treatment states the level of Organic trea...\n",
       "2  FieldName      The name of the field in the region of the UK\n",
       "3  FieldArea                  The area in Hectares of the Field\n",
       "4       Crop  The type of crop harvested from the field whic...\n",
       "5      Yield          The amount of crop per hectare harvested.\n",
       "6     tonnes  The number of tonnes of crop per hectare harve...\n",
       "7      Ratio  The ratio of crop harvested to tonne harvested..."
      ]
     },
     "execution_count": 16,
     "metadata": {},
     "output_type": "execute_result"
    }
   ],
   "source": [
    "hill_dict"
   ]
  },
  {
   "cell_type": "code",
   "execution_count": null,
   "metadata": {},
   "outputs": [],
   "source": []
  },
  {
   "cell_type": "code",
   "execution_count": null,
   "metadata": {},
   "outputs": [],
   "source": []
  },
  {
   "cell_type": "code",
   "execution_count": 40,
   "metadata": {},
   "outputs": [
    {
     "data": {
      "text/html": [
       "<div>\n",
       "<style scoped>\n",
       "    .dataframe tbody tr th:only-of-type {\n",
       "        vertical-align: middle;\n",
       "    }\n",
       "\n",
       "    .dataframe tbody tr th {\n",
       "        vertical-align: top;\n",
       "    }\n",
       "\n",
       "    .dataframe thead th {\n",
       "        text-align: right;\n",
       "    }\n",
       "</style>\n",
       "<table border=\"1\" class=\"dataframe\">\n",
       "  <thead>\n",
       "    <tr style=\"text-align: right;\">\n",
       "      <th></th>\n",
       "      <th>Year</th>\n",
       "      <th>Treatment</th>\n",
       "      <th>Field Name</th>\n",
       "      <th>Field Area</th>\n",
       "      <th>Crop</th>\n",
       "      <th>Quantity</th>\n",
       "      <th>Yield/ha</th>\n",
       "      <th>Defra SE regional average yield t/ha</th>\n",
       "    </tr>\n",
       "  </thead>\n",
       "  <tbody>\n",
       "    <tr>\n",
       "      <th>0</th>\n",
       "      <td>2006</td>\n",
       "      <td>Cross-compliance</td>\n",
       "      <td>Chorleys</td>\n",
       "      <td>13.57</td>\n",
       "      <td>Oilseed rape</td>\n",
       "      <td>49.39</td>\n",
       "      <td>3.64</td>\n",
       "      <td>3.2</td>\n",
       "    </tr>\n",
       "    <tr>\n",
       "      <th>1</th>\n",
       "      <td>2006</td>\n",
       "      <td>Cross-compliance</td>\n",
       "      <td>Marsh Meadow</td>\n",
       "      <td>12.18</td>\n",
       "      <td>Oilseed rape</td>\n",
       "      <td>45.55</td>\n",
       "      <td>3.74</td>\n",
       "      <td>3.2</td>\n",
       "    </tr>\n",
       "  </tbody>\n",
       "</table>\n",
       "</div>"
      ],
      "text/plain": [
       "   Year         Treatment    Field Name  Field Area          Crop  Quantity  \\\n",
       "0  2006  Cross-compliance      Chorleys       13.57  Oilseed rape     49.39   \n",
       "1  2006  Cross-compliance  Marsh Meadow       12.18  Oilseed rape     45.55   \n",
       "\n",
       "   Yield/ha  Defra SE regional average yield t/ha  \n",
       "0      3.64                                   3.2  \n",
       "1      3.74                                   3.2  "
      ]
     },
     "execution_count": 40,
     "metadata": {},
     "output_type": "execute_result"
    }
   ],
   "source": [
    "hill.head(2)"
   ]
  },
  {
   "cell_type": "code",
   "execution_count": 41,
   "metadata": {},
   "outputs": [
    {
     "name": "stdout",
     "output_type": "stream",
     "text": [
      "<class 'pandas.core.frame.DataFrame'>\n",
      "RangeIndex: 342 entries, 0 to 341\n",
      "Data columns (total 8 columns):\n",
      "Year                                    342 non-null int64\n",
      "Treatment                               342 non-null object\n",
      "Field Name                              342 non-null object\n",
      "Field Area                              342 non-null float64\n",
      "Crop                                    342 non-null object\n",
      "Quantity                                342 non-null float64\n",
      "Yield/ha                                342 non-null float64\n",
      "Defra SE regional average yield t/ha    342 non-null float64\n",
      "dtypes: float64(4), int64(1), object(3)\n",
      "memory usage: 21.5+ KB\n"
     ]
    }
   ],
   "source": [
    "hill.info()"
   ]
  },
  {
   "cell_type": "code",
   "execution_count": 23,
   "metadata": {
    "scrolled": true
   },
   "outputs": [
    {
     "data": {
      "text/html": [
       "<div>\n",
       "<style scoped>\n",
       "    .dataframe tbody tr th:only-of-type {\n",
       "        vertical-align: middle;\n",
       "    }\n",
       "\n",
       "    .dataframe tbody tr th {\n",
       "        vertical-align: top;\n",
       "    }\n",
       "\n",
       "    .dataframe thead th {\n",
       "        text-align: right;\n",
       "    }\n",
       "</style>\n",
       "<table border=\"1\" class=\"dataframe\">\n",
       "  <thead>\n",
       "    <tr style=\"text-align: right;\">\n",
       "      <th></th>\n",
       "      <th>Unnamed: 0</th>\n",
       "      <th>Unnamed: 1</th>\n",
       "    </tr>\n",
       "  </thead>\n",
       "  <tbody>\n",
       "    <tr>\n",
       "      <th>0</th>\n",
       "      <td>Year</td>\n",
       "      <td>This states the year of which the samples were...</td>\n",
       "    </tr>\n",
       "    <tr>\n",
       "      <th>1</th>\n",
       "      <td>Treatment</td>\n",
       "      <td>The treatment states the level of Organic trea...</td>\n",
       "    </tr>\n",
       "    <tr>\n",
       "      <th>2</th>\n",
       "      <td>FieldName</td>\n",
       "      <td>The name of the field in the region of the UK</td>\n",
       "    </tr>\n",
       "    <tr>\n",
       "      <th>3</th>\n",
       "      <td>FieldArea</td>\n",
       "      <td>The area in Hectares of the Field</td>\n",
       "    </tr>\n",
       "    <tr>\n",
       "      <th>4</th>\n",
       "      <td>Crop</td>\n",
       "      <td>The type of crop harvested from the field whic...</td>\n",
       "    </tr>\n",
       "    <tr>\n",
       "      <th>5</th>\n",
       "      <td>Yield</td>\n",
       "      <td>The amount of crop per hectare harvested.</td>\n",
       "    </tr>\n",
       "    <tr>\n",
       "      <th>6</th>\n",
       "      <td>tonnes</td>\n",
       "      <td>The number of tonnes of crop per hectare harve...</td>\n",
       "    </tr>\n",
       "    <tr>\n",
       "      <th>7</th>\n",
       "      <td>Ratio</td>\n",
       "      <td>The ratio of crop harvested to tonne harvested...</td>\n",
       "    </tr>\n",
       "  </tbody>\n",
       "</table>\n",
       "</div>"
      ],
      "text/plain": [
       "  Unnamed: 0                                         Unnamed: 1\n",
       "0       Year  This states the year of which the samples were...\n",
       "1  Treatment  The treatment states the level of Organic trea...\n",
       "2  FieldName      The name of the field in the region of the UK\n",
       "3  FieldArea                  The area in Hectares of the Field\n",
       "4       Crop  The type of crop harvested from the field whic...\n",
       "5      Yield          The amount of crop per hectare harvested.\n",
       "6     tonnes  The number of tonnes of crop per hectare harve...\n",
       "7      Ratio  The ratio of crop harvested to tonne harvested..."
      ]
     },
     "execution_count": 23,
     "metadata": {},
     "output_type": "execute_result"
    }
   ],
   "source": [
    "hill_dict"
   ]
  },
  {
   "cell_type": "code",
   "execution_count": null,
   "metadata": {},
   "outputs": [],
   "source": []
  },
  {
   "cell_type": "markdown",
   "metadata": {},
   "source": [
    "# Argentina"
   ]
  },
  {
   "cell_type": "code",
   "execution_count": 20,
   "metadata": {},
   "outputs": [],
   "source": [
    "arg = arg.drop('ID Provincia', axis =1)"
   ]
  },
  {
   "cell_type": "code",
   "execution_count": 23,
   "metadata": {},
   "outputs": [],
   "source": [
    "arg = arg.drop('Departamento', axis = 1)"
   ]
  },
  {
   "cell_type": "code",
   "execution_count": 24,
   "metadata": {},
   "outputs": [],
   "source": [
    "arg = arg.drop('Id Cultivo', axis = 1)"
   ]
  },
  {
   "cell_type": "code",
   "execution_count": 25,
   "metadata": {},
   "outputs": [],
   "source": [
    "arg = arg.drop('ID Campaña', axis=1)"
   ]
  },
  {
   "cell_type": "code",
   "execution_count": null,
   "metadata": {},
   "outputs": [],
   "source": []
  },
  {
   "cell_type": "code",
   "execution_count": 42,
   "metadata": {},
   "outputs": [
    {
     "data": {
      "text/html": [
       "<div>\n",
       "<style scoped>\n",
       "    .dataframe tbody tr th:only-of-type {\n",
       "        vertical-align: middle;\n",
       "    }\n",
       "\n",
       "    .dataframe tbody tr th {\n",
       "        vertical-align: top;\n",
       "    }\n",
       "\n",
       "    .dataframe thead th {\n",
       "        text-align: right;\n",
       "    }\n",
       "</style>\n",
       "<table border=\"1\" class=\"dataframe\">\n",
       "  <thead>\n",
       "    <tr style=\"text-align: right;\">\n",
       "      <th></th>\n",
       "      <th>Provincia</th>\n",
       "      <th>ID Departamento</th>\n",
       "      <th>Cultivo</th>\n",
       "      <th>Campana</th>\n",
       "      <th>Sup. Sembrada (Ha)</th>\n",
       "      <th>Sup. Cosechada (Ha)</th>\n",
       "      <th>Producción (Tn)</th>\n",
       "      <th>Rendimiento (Kg/Ha)</th>\n",
       "    </tr>\n",
       "  </thead>\n",
       "  <tbody>\n",
       "    <tr>\n",
       "      <th>0</th>\n",
       "      <td>BUENOS AIRES</td>\n",
       "      <td>854</td>\n",
       "      <td>Ajo</td>\n",
       "      <td>1969/70</td>\n",
       "      <td>3.0</td>\n",
       "      <td>3.0</td>\n",
       "      <td>10</td>\n",
       "      <td>3.333</td>\n",
       "    </tr>\n",
       "    <tr>\n",
       "      <th>1</th>\n",
       "      <td>BUENOS AIRES</td>\n",
       "      <td>854</td>\n",
       "      <td>Ajo</td>\n",
       "      <td>1970/71</td>\n",
       "      <td>1.0</td>\n",
       "      <td>1.0</td>\n",
       "      <td>3</td>\n",
       "      <td>3.000</td>\n",
       "    </tr>\n",
       "  </tbody>\n",
       "</table>\n",
       "</div>"
      ],
      "text/plain": [
       "      Provincia  ID Departamento Cultivo  Campana  Sup. Sembrada (Ha)  \\\n",
       "0  BUENOS AIRES              854     Ajo  1969/70                 3.0   \n",
       "1  BUENOS AIRES              854     Ajo  1970/71                 1.0   \n",
       "\n",
       "   Sup. Cosechada (Ha) Producción (Tn)  Rendimiento (Kg/Ha)  \n",
       "0                  3.0              10                3.333  \n",
       "1                  1.0               3                3.000  "
      ]
     },
     "execution_count": 42,
     "metadata": {},
     "output_type": "execute_result"
    }
   ],
   "source": [
    "arg.head(2)"
   ]
  },
  {
   "cell_type": "code",
   "execution_count": 49,
   "metadata": {
    "scrolled": true
   },
   "outputs": [],
   "source": [
    "argy = arg.rename(columns={'Provincia':'Province','Cultivo':'Cultivated','Cultivo':'Date','Sup. Sembrada (Ha)':'Hectares_sown',\n",
    "                           'Sup. Cosechada (Ha)':'Hectares_Harvested','Producción (Tn)':'Tonnes','Rendimiento (Kg/Ha)':'Harvest_performance'})\n"
   ]
  },
  {
   "cell_type": "code",
   "execution_count": 53,
   "metadata": {
    "scrolled": true
   },
   "outputs": [
    {
     "data": {
      "text/html": [
       "<div>\n",
       "<style scoped>\n",
       "    .dataframe tbody tr th:only-of-type {\n",
       "        vertical-align: middle;\n",
       "    }\n",
       "\n",
       "    .dataframe tbody tr th {\n",
       "        vertical-align: top;\n",
       "    }\n",
       "\n",
       "    .dataframe thead th {\n",
       "        text-align: right;\n",
       "    }\n",
       "</style>\n",
       "<table border=\"1\" class=\"dataframe\">\n",
       "  <thead>\n",
       "    <tr style=\"text-align: right;\">\n",
       "      <th></th>\n",
       "      <th>Province</th>\n",
       "      <th>Date</th>\n",
       "      <th>Campana</th>\n",
       "      <th>Hectares_sown</th>\n",
       "      <th>Hectares_Harvested</th>\n",
       "      <th>Tonnes</th>\n",
       "      <th>Harvest_performance</th>\n",
       "    </tr>\n",
       "  </thead>\n",
       "  <tbody>\n",
       "    <tr>\n",
       "      <th>0</th>\n",
       "      <td>BUENOS AIRES</td>\n",
       "      <td>Ajo</td>\n",
       "      <td>1969/70</td>\n",
       "      <td>3.0</td>\n",
       "      <td>3.0</td>\n",
       "      <td>10</td>\n",
       "      <td>3.333</td>\n",
       "    </tr>\n",
       "    <tr>\n",
       "      <th>1</th>\n",
       "      <td>BUENOS AIRES</td>\n",
       "      <td>Ajo</td>\n",
       "      <td>1970/71</td>\n",
       "      <td>1.0</td>\n",
       "      <td>1.0</td>\n",
       "      <td>3</td>\n",
       "      <td>3.000</td>\n",
       "    </tr>\n",
       "  </tbody>\n",
       "</table>\n",
       "</div>"
      ],
      "text/plain": [
       "       Province Date  Campana  Hectares_sown  Hectares_Harvested Tonnes  \\\n",
       "0  BUENOS AIRES  Ajo  1969/70            3.0                 3.0     10   \n",
       "1  BUENOS AIRES  Ajo  1970/71            1.0                 1.0      3   \n",
       "\n",
       "   Harvest_performance  \n",
       "0                3.333  \n",
       "1                3.000  "
      ]
     },
     "execution_count": 53,
     "metadata": {},
     "output_type": "execute_result"
    }
   ],
   "source": [
    "arg = argy.drop('ID Departamento', axis =1)\n",
    "arg.head(2)"
   ]
  },
  {
   "cell_type": "code",
   "execution_count": 56,
   "metadata": {},
   "outputs": [],
   "source": [
    "argy = arg.rename(columns={'Date':'Cultivated', 'Campana':'Date'})"
   ]
  },
  {
   "cell_type": "code",
   "execution_count": 59,
   "metadata": {},
   "outputs": [
    {
     "data": {
      "text/html": [
       "<div>\n",
       "<style scoped>\n",
       "    .dataframe tbody tr th:only-of-type {\n",
       "        vertical-align: middle;\n",
       "    }\n",
       "\n",
       "    .dataframe tbody tr th {\n",
       "        vertical-align: top;\n",
       "    }\n",
       "\n",
       "    .dataframe thead th {\n",
       "        text-align: right;\n",
       "    }\n",
       "</style>\n",
       "<table border=\"1\" class=\"dataframe\">\n",
       "  <thead>\n",
       "    <tr style=\"text-align: right;\">\n",
       "      <th></th>\n",
       "      <th>Province</th>\n",
       "      <th>Cultivated</th>\n",
       "      <th>Date</th>\n",
       "      <th>Hectares_sown</th>\n",
       "      <th>Hectares_Harvested</th>\n",
       "      <th>Tonnes</th>\n",
       "      <th>Harvest_performance</th>\n",
       "    </tr>\n",
       "  </thead>\n",
       "  <tbody>\n",
       "    <tr>\n",
       "      <th>0</th>\n",
       "      <td>BUENOS AIRES</td>\n",
       "      <td>Ajo</td>\n",
       "      <td>1969/70</td>\n",
       "      <td>3.0</td>\n",
       "      <td>3.0</td>\n",
       "      <td>10</td>\n",
       "      <td>3.333</td>\n",
       "    </tr>\n",
       "    <tr>\n",
       "      <th>1</th>\n",
       "      <td>BUENOS AIRES</td>\n",
       "      <td>Ajo</td>\n",
       "      <td>1970/71</td>\n",
       "      <td>1.0</td>\n",
       "      <td>1.0</td>\n",
       "      <td>3</td>\n",
       "      <td>3.000</td>\n",
       "    </tr>\n",
       "  </tbody>\n",
       "</table>\n",
       "</div>"
      ],
      "text/plain": [
       "       Province Cultivated     Date  Hectares_sown  Hectares_Harvested Tonnes  \\\n",
       "0  BUENOS AIRES        Ajo  1969/70            3.0                 3.0     10   \n",
       "1  BUENOS AIRES        Ajo  1970/71            1.0                 1.0      3   \n",
       "\n",
       "   Harvest_performance  \n",
       "0                3.333  \n",
       "1                3.000  "
      ]
     },
     "execution_count": 59,
     "metadata": {},
     "output_type": "execute_result"
    }
   ],
   "source": [
    "arg = argy\n",
    "arg.head(2)"
   ]
  },
  {
   "cell_type": "code",
   "execution_count": 27,
   "metadata": {},
   "outputs": [
    {
     "name": "stdout",
     "output_type": "stream",
     "text": [
      "<class 'pandas.core.frame.DataFrame'>\n",
      "RangeIndex: 65498 entries, 0 to 65497\n",
      "Data columns (total 8 columns):\n",
      "Provincia              65498 non-null object\n",
      "ID Departamento        65498 non-null int64\n",
      "Cultivo                65498 non-null object\n",
      "Campana                65498 non-null object\n",
      "Sup. Sembrada (Ha)     65498 non-null float64\n",
      "Sup. Cosechada (Ha)    65498 non-null float64\n",
      "Producción (Tn)        65498 non-null object\n",
      "Rendimiento (Kg/Ha)    65498 non-null float64\n",
      "dtypes: float64(3), int64(1), object(4)\n",
      "memory usage: 4.0+ MB\n"
     ]
    }
   ],
   "source": [
    "arg.info()"
   ]
  },
  {
   "cell_type": "code",
   "execution_count": 28,
   "metadata": {
    "scrolled": true
   },
   "outputs": [
    {
     "data": {
      "text/html": [
       "<div>\n",
       "<style scoped>\n",
       "    .dataframe tbody tr th:only-of-type {\n",
       "        vertical-align: middle;\n",
       "    }\n",
       "\n",
       "    .dataframe tbody tr th {\n",
       "        vertical-align: top;\n",
       "    }\n",
       "\n",
       "    .dataframe thead th {\n",
       "        text-align: right;\n",
       "    }\n",
       "</style>\n",
       "<table border=\"1\" class=\"dataframe\">\n",
       "  <thead>\n",
       "    <tr style=\"text-align: right;\">\n",
       "      <th></th>\n",
       "      <th>Unnamed: 0</th>\n",
       "      <th>Unnamed: 1</th>\n",
       "    </tr>\n",
       "  </thead>\n",
       "  <tbody>\n",
       "    <tr>\n",
       "      <th>0</th>\n",
       "      <td>Province</td>\n",
       "      <td>The location at which the crop is sown and har...</td>\n",
       "    </tr>\n",
       "    <tr>\n",
       "      <th>1</th>\n",
       "      <td>Cultivated</td>\n",
       "      <td>The type of crop harvested which ranges from c...</td>\n",
       "    </tr>\n",
       "    <tr>\n",
       "      <th>2</th>\n",
       "      <td>Date</td>\n",
       "      <td>The years harvested from 1969 - 2016</td>\n",
       "    </tr>\n",
       "    <tr>\n",
       "      <th>3</th>\n",
       "      <td>Hectares_Sown</td>\n",
       "      <td>The Number of hectares of the crop that were s...</td>\n",
       "    </tr>\n",
       "    <tr>\n",
       "      <th>4</th>\n",
       "      <td>Hectares_Harvested</td>\n",
       "      <td>The number of hectares of the crop successfull...</td>\n",
       "    </tr>\n",
       "    <tr>\n",
       "      <th>5</th>\n",
       "      <td>Tonnes</td>\n",
       "      <td>Number of tonnes obtained from harvesting the ...</td>\n",
       "    </tr>\n",
       "    <tr>\n",
       "      <th>6</th>\n",
       "      <td>Harvest_performance</td>\n",
       "      <td>The success rate of the harvesting of the desi...</td>\n",
       "    </tr>\n",
       "  </tbody>\n",
       "</table>\n",
       "</div>"
      ],
      "text/plain": [
       "            Unnamed: 0                                         Unnamed: 1\n",
       "0             Province  The location at which the crop is sown and har...\n",
       "1           Cultivated  The type of crop harvested which ranges from c...\n",
       "2                 Date               The years harvested from 1969 - 2016\n",
       "3        Hectares_Sown  The Number of hectares of the crop that were s...\n",
       "4   Hectares_Harvested  The number of hectares of the crop successfull...\n",
       "5               Tonnes  Number of tonnes obtained from harvesting the ...\n",
       "6  Harvest_performance  The success rate of the harvesting of the desi..."
      ]
     },
     "execution_count": 28,
     "metadata": {},
     "output_type": "execute_result"
    }
   ],
   "source": [
    "arg_dict"
   ]
  },
  {
   "cell_type": "code",
   "execution_count": null,
   "metadata": {},
   "outputs": [],
   "source": []
  },
  {
   "cell_type": "markdown",
   "metadata": {},
   "source": [
    "## Europe"
   ]
  },
  {
   "cell_type": "code",
   "execution_count": 36,
   "metadata": {},
   "outputs": [],
   "source": [
    "eur = eur.drop('Flag and Footnotes', axis=1)"
   ]
  },
  {
   "cell_type": "code",
   "execution_count": 61,
   "metadata": {},
   "outputs": [],
   "source": [
    "eur = eur.rename(columns={'STRUCPRO':'Type'})"
   ]
  },
  {
   "cell_type": "code",
   "execution_count": null,
   "metadata": {},
   "outputs": [],
   "source": []
  },
  {
   "cell_type": "code",
   "execution_count": 62,
   "metadata": {
    "scrolled": true
   },
   "outputs": [
    {
     "data": {
      "text/html": [
       "<div>\n",
       "<style scoped>\n",
       "    .dataframe tbody tr th:only-of-type {\n",
       "        vertical-align: middle;\n",
       "    }\n",
       "\n",
       "    .dataframe tbody tr th {\n",
       "        vertical-align: top;\n",
       "    }\n",
       "\n",
       "    .dataframe thead th {\n",
       "        text-align: right;\n",
       "    }\n",
       "</style>\n",
       "<table border=\"1\" class=\"dataframe\">\n",
       "  <thead>\n",
       "    <tr style=\"text-align: right;\">\n",
       "      <th></th>\n",
       "      <th>TIME</th>\n",
       "      <th>GEO</th>\n",
       "      <th>CROPS</th>\n",
       "      <th>Type</th>\n",
       "      <th>Value</th>\n",
       "    </tr>\n",
       "  </thead>\n",
       "  <tbody>\n",
       "    <tr>\n",
       "      <th>0</th>\n",
       "      <td>2009</td>\n",
       "      <td>European Union (EU6-1972, EU9-1980, EU10-1985,...</td>\n",
       "      <td>Cereals for the production of grain (including...</td>\n",
       "      <td>Area (cultivation/harvested/production) (1000 ha)</td>\n",
       "      <td>58,935.04</td>\n",
       "    </tr>\n",
       "    <tr>\n",
       "      <th>1</th>\n",
       "      <td>2009</td>\n",
       "      <td>European Union (EU6-1972, EU9-1980, EU10-1985,...</td>\n",
       "      <td>Dry pulses and protein crops for the productio...</td>\n",
       "      <td>Area (cultivation/harvested/production) (1000 ha)</td>\n",
       "      <td>1,312.44</td>\n",
       "    </tr>\n",
       "  </tbody>\n",
       "</table>\n",
       "</div>"
      ],
      "text/plain": [
       "   TIME                                                GEO  \\\n",
       "0  2009  European Union (EU6-1972, EU9-1980, EU10-1985,...   \n",
       "1  2009  European Union (EU6-1972, EU9-1980, EU10-1985,...   \n",
       "\n",
       "                                               CROPS  \\\n",
       "0  Cereals for the production of grain (including...   \n",
       "1  Dry pulses and protein crops for the productio...   \n",
       "\n",
       "                                                Type      Value  \n",
       "0  Area (cultivation/harvested/production) (1000 ha)  58,935.04  \n",
       "1  Area (cultivation/harvested/production) (1000 ha)   1,312.44  "
      ]
     },
     "execution_count": 62,
     "metadata": {},
     "output_type": "execute_result"
    }
   ],
   "source": [
    "eur.head(2)"
   ]
  },
  {
   "cell_type": "code",
   "execution_count": 63,
   "metadata": {},
   "outputs": [
    {
     "name": "stdout",
     "output_type": "stream",
     "text": [
      "<class 'pandas.core.frame.DataFrame'>\n",
      "RangeIndex: 18810 entries, 0 to 18809\n",
      "Data columns (total 5 columns):\n",
      "TIME     18810 non-null int64\n",
      "GEO      18810 non-null object\n",
      "CROPS    18810 non-null object\n",
      "Type     18810 non-null object\n",
      "Value    18810 non-null object\n",
      "dtypes: int64(1), object(4)\n",
      "memory usage: 734.8+ KB\n"
     ]
    }
   ],
   "source": [
    "eur.info()"
   ]
  },
  {
   "cell_type": "code",
   "execution_count": 39,
   "metadata": {},
   "outputs": [
    {
     "data": {
      "text/html": [
       "<div>\n",
       "<style scoped>\n",
       "    .dataframe tbody tr th:only-of-type {\n",
       "        vertical-align: middle;\n",
       "    }\n",
       "\n",
       "    .dataframe tbody tr th {\n",
       "        vertical-align: top;\n",
       "    }\n",
       "\n",
       "    .dataframe thead th {\n",
       "        text-align: right;\n",
       "    }\n",
       "</style>\n",
       "<table border=\"1\" class=\"dataframe\">\n",
       "  <thead>\n",
       "    <tr style=\"text-align: right;\">\n",
       "      <th></th>\n",
       "      <th>Unnamed: 0</th>\n",
       "      <th>Unnamed: 1</th>\n",
       "    </tr>\n",
       "  </thead>\n",
       "  <tbody>\n",
       "    <tr>\n",
       "      <th>0</th>\n",
       "      <td>Geo</td>\n",
       "      <td>The country of which the crop was harvested fr...</td>\n",
       "    </tr>\n",
       "    <tr>\n",
       "      <th>1</th>\n",
       "      <td>Time</td>\n",
       "      <td>The year of which the crop was harvested to se...</td>\n",
       "    </tr>\n",
       "    <tr>\n",
       "      <th>2</th>\n",
       "      <td>Crops</td>\n",
       "      <td>This is one of three different ‘crops’; Grassl...</td>\n",
       "    </tr>\n",
       "    <tr>\n",
       "      <th>3</th>\n",
       "      <td>Value</td>\n",
       "      <td>The amount of the crop harvested in the type.</td>\n",
       "    </tr>\n",
       "    <tr>\n",
       "      <th>4</th>\n",
       "      <td>Type</td>\n",
       "      <td>The type in which the value was harvested. Thi...</td>\n",
       "    </tr>\n",
       "  </tbody>\n",
       "</table>\n",
       "</div>"
      ],
      "text/plain": [
       "  Unnamed: 0                                         Unnamed: 1\n",
       "0        Geo  The country of which the crop was harvested fr...\n",
       "1       Time  The year of which the crop was harvested to se...\n",
       "2      Crops  This is one of three different ‘crops’; Grassl...\n",
       "3      Value      The amount of the crop harvested in the type.\n",
       "4       Type  The type in which the value was harvested. Thi..."
      ]
     },
     "execution_count": 39,
     "metadata": {},
     "output_type": "execute_result"
    }
   ],
   "source": [
    "eur_dict"
   ]
  },
  {
   "cell_type": "code",
   "execution_count": null,
   "metadata": {},
   "outputs": [],
   "source": []
  },
  {
   "cell_type": "code",
   "execution_count": 3,
   "metadata": {},
   "outputs": [],
   "source": [
    "!rm global_crops.csv"
   ]
  },
  {
   "cell_type": "code",
   "execution_count": null,
   "metadata": {},
   "outputs": [],
   "source": []
  }
 ],
 "metadata": {
  "kernelspec": {
   "display_name": "Python 3",
   "language": "python",
   "name": "python3"
  },
  "language_info": {
   "codemirror_mode": {
    "name": "ipython",
    "version": 3
   },
   "file_extension": ".py",
   "mimetype": "text/x-python",
   "name": "python",
   "nbconvert_exporter": "python",
   "pygments_lexer": "ipython3",
   "version": "3.6.5"
  }
 },
 "nbformat": 4,
 "nbformat_minor": 2
}
